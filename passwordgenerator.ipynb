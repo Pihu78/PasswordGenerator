{
 "cells": [
  {
   "cell_type": "code",
   "execution_count": 3,
   "id": "e6bbd991-40a9-4419-b0e6-c63fe2e35865",
   "metadata": {},
   "outputs": [
    {
     "name": "stdin",
     "output_type": "stream",
     "text": [
      "Enter desired password length:  10\n"
     ]
    },
    {
     "name": "stdout",
     "output_type": "stream",
     "text": [
      "Include letters? (y/n): "
     ]
    },
    {
     "name": "stdin",
     "output_type": "stream",
     "text": [
      " y\n"
     ]
    },
    {
     "name": "stdout",
     "output_type": "stream",
     "text": [
      "Include digits? (y/n): "
     ]
    },
    {
     "name": "stdin",
     "output_type": "stream",
     "text": [
      " y\n"
     ]
    },
    {
     "name": "stdout",
     "output_type": "stream",
     "text": [
      "Include symbols? (y/n): "
     ]
    },
    {
     "name": "stdin",
     "output_type": "stream",
     "text": [
      " n\n"
     ]
    },
    {
     "name": "stdout",
     "output_type": "stream",
     "text": [
      "Generated Password: J164r1GHRj\n"
     ]
    }
   ],
   "source": [
    "import random\n",
    "import string\n",
    "\n",
    "def generate_password(length, use_letters=True, use_digits=True, use_symbols=True):\n",
    "    characters = \"\"\n",
    "    if use_letters:\n",
    "        characters += string.ascii_letters  # a-zA-Z\n",
    "    if use_digits:\n",
    "        characters += string.digits         # 0-9\n",
    "    if use_symbols:\n",
    "        characters += string.punctuation    # Special symbols\n",
    "\n",
    "    if not characters:\n",
    "        return \"Error: No character types selected.\"\n",
    "\n",
    "    password = ''.join(random.choice(characters) for _ in range(length))\n",
    "    return password\n",
    "\n",
    "try:\n",
    "    length = int(input(\"Enter desired password length: \"))\n",
    "    print(\"Include letters? (y/n): \", end=\"\")\n",
    "    include_letters = input().lower() == 'y'\n",
    "\n",
    "    print(\"Include digits? (y/n): \", end=\"\")\n",
    "    include_digits = input().lower() == 'y'\n",
    "\n",
    "    print(\"Include symbols? (y/n): \", end=\"\")\n",
    "    include_symbols = input().lower() == 'y'\n",
    "\n",
    "    result = generate_password(length, include_letters, include_digits, include_symbols)\n",
    "    print(\"Generated Password:\", result)\n",
    "except ValueError:\n",
    "    print(\"Invalid input. Please enter a number for the length.\")\n"
   ]
  },
  {
   "cell_type": "code",
   "execution_count": null,
   "id": "1cc9582c-f66f-4496-acc2-92df33cd9023",
   "metadata": {},
   "outputs": [],
   "source": []
  }
 ],
 "metadata": {
  "kernelspec": {
   "display_name": "Python 3 (ipykernel)",
   "language": "python",
   "name": "python3"
  },
  "language_info": {
   "codemirror_mode": {
    "name": "ipython",
    "version": 3
   },
   "file_extension": ".py",
   "mimetype": "text/x-python",
   "name": "python",
   "nbconvert_exporter": "python",
   "pygments_lexer": "ipython3",
   "version": "3.13.5"
  }
 },
 "nbformat": 4,
 "nbformat_minor": 5
}
